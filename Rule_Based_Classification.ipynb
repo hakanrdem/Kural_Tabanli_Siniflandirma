{
 "cells": [
  {
   "cell_type": "markdown",
   "id": "90ab7c56-439d-4615-9087-96b3701412ba",
   "metadata": {
    "tags": []
   },
   "source": [
    "# Kural Tabanlı Sınıflandırma ile Potansiyel Müşteri Getirisi Hesaplama\n",
    "# İş Problemi\n",
    "     # Bir oyun şirketi müşterilerinin bazı özelliklerini kullanarak seviye tabanlı (level based) yeni müşteri tanımları      (persona) oluşturmak ve bu yeni müşteri tanımlarına göre segmentler oluşturup bu segmentlere göre yeni gelebilecek        müşterilerin şirkete ortalama ne kadar kazandırabileceğini tahmin etmek istemektedir.\n",
    "     \n",
    "# Örneğin:\n",
    "    Türkiye’den IOS kullanıcısı olan 25 yaşındaki bir erkek kullanıcının ortalama ne kadar kazandırabileceği belirlenmek     isteniyor.\n",
    "   \n",
    "# Veri Seti Hikayesi\n",
    "\n",
    "    Persona.csv veri seti uluslararası bir oyun şirketinin sattığı ürünlerin fiyatlarını ve bu ürünleri satın alan           kullanıcıların bazı demografik bilgilerini barındırmaktadır. Veri seti her satış işleminde oluşan kayıtlardan meydana     gelmektedir. Bunun anlamı tablo tekilleştirilmemiştir. Diğer bir ifade ile belirli demografik özelliklere sahip bir       kullanıcı birden fazla alışveriş yapmış olabilir.\n",
    "\n",
    "# Değişkenler\n",
    "\n",
    "    persona.csv\n",
    "    PRICE – Müşterinin harcama tutarı \n",
    "    SOURCE – Müşterinin bağlandığı cihaz türü \n",
    "    SEX – Müşterinin cinsiyeti\n",
    "    COUNTRY – Müşterinin ülkesi \n",
    "    AGE – Müşterinin yaşı"
   ]
  },
  {
   "cell_type": "code",
   "execution_count": null,
   "id": "42d7a565-57b3-4e23-82fd-90942b4de401",
   "metadata": {},
   "outputs": [],
   "source": [
    "# persona.csv dosyasını okuttuk ve veri seti ile ilgili genel bilgiler gösterildi."
   ]
  },
  {
   "cell_type": "code",
   "execution_count": 1,
   "id": "f56331a2-4315-4494-a451-ca9f2552169a",
   "metadata": {},
   "outputs": [
    {
     "data": {
      "text/html": [
       "<div>\n",
       "<style scoped>\n",
       "    .dataframe tbody tr th:only-of-type {\n",
       "        vertical-align: middle;\n",
       "    }\n",
       "\n",
       "    .dataframe tbody tr th {\n",
       "        vertical-align: top;\n",
       "    }\n",
       "\n",
       "    .dataframe thead th {\n",
       "        text-align: right;\n",
       "    }\n",
       "</style>\n",
       "<table border=\"1\" class=\"dataframe\">\n",
       "  <thead>\n",
       "    <tr style=\"text-align: right;\">\n",
       "      <th></th>\n",
       "      <th>PRICE</th>\n",
       "      <th>SOURCE</th>\n",
       "      <th>SEX</th>\n",
       "      <th>COUNTRY</th>\n",
       "      <th>AGE</th>\n",
       "    </tr>\n",
       "  </thead>\n",
       "  <tbody>\n",
       "    <tr>\n",
       "      <th>0</th>\n",
       "      <td>39</td>\n",
       "      <td>android</td>\n",
       "      <td>male</td>\n",
       "      <td>bra</td>\n",
       "      <td>17</td>\n",
       "    </tr>\n",
       "    <tr>\n",
       "      <th>1</th>\n",
       "      <td>39</td>\n",
       "      <td>android</td>\n",
       "      <td>male</td>\n",
       "      <td>bra</td>\n",
       "      <td>17</td>\n",
       "    </tr>\n",
       "    <tr>\n",
       "      <th>2</th>\n",
       "      <td>49</td>\n",
       "      <td>android</td>\n",
       "      <td>male</td>\n",
       "      <td>bra</td>\n",
       "      <td>17</td>\n",
       "    </tr>\n",
       "    <tr>\n",
       "      <th>3</th>\n",
       "      <td>29</td>\n",
       "      <td>android</td>\n",
       "      <td>male</td>\n",
       "      <td>tur</td>\n",
       "      <td>17</td>\n",
       "    </tr>\n",
       "    <tr>\n",
       "      <th>4</th>\n",
       "      <td>49</td>\n",
       "      <td>android</td>\n",
       "      <td>male</td>\n",
       "      <td>tur</td>\n",
       "      <td>17</td>\n",
       "    </tr>\n",
       "    <tr>\n",
       "      <th>...</th>\n",
       "      <td>...</td>\n",
       "      <td>...</td>\n",
       "      <td>...</td>\n",
       "      <td>...</td>\n",
       "      <td>...</td>\n",
       "    </tr>\n",
       "    <tr>\n",
       "      <th>4995</th>\n",
       "      <td>29</td>\n",
       "      <td>android</td>\n",
       "      <td>female</td>\n",
       "      <td>bra</td>\n",
       "      <td>31</td>\n",
       "    </tr>\n",
       "    <tr>\n",
       "      <th>4996</th>\n",
       "      <td>29</td>\n",
       "      <td>android</td>\n",
       "      <td>female</td>\n",
       "      <td>bra</td>\n",
       "      <td>31</td>\n",
       "    </tr>\n",
       "    <tr>\n",
       "      <th>4997</th>\n",
       "      <td>29</td>\n",
       "      <td>android</td>\n",
       "      <td>female</td>\n",
       "      <td>bra</td>\n",
       "      <td>31</td>\n",
       "    </tr>\n",
       "    <tr>\n",
       "      <th>4998</th>\n",
       "      <td>39</td>\n",
       "      <td>android</td>\n",
       "      <td>female</td>\n",
       "      <td>bra</td>\n",
       "      <td>31</td>\n",
       "    </tr>\n",
       "    <tr>\n",
       "      <th>4999</th>\n",
       "      <td>29</td>\n",
       "      <td>android</td>\n",
       "      <td>female</td>\n",
       "      <td>bra</td>\n",
       "      <td>31</td>\n",
       "    </tr>\n",
       "  </tbody>\n",
       "</table>\n",
       "<p>5000 rows × 5 columns</p>\n",
       "</div>"
      ],
      "text/plain": [
       "      PRICE   SOURCE     SEX COUNTRY  AGE\n",
       "0        39  android    male     bra   17\n",
       "1        39  android    male     bra   17\n",
       "2        49  android    male     bra   17\n",
       "3        29  android    male     tur   17\n",
       "4        49  android    male     tur   17\n",
       "...     ...      ...     ...     ...  ...\n",
       "4995     29  android  female     bra   31\n",
       "4996     29  android  female     bra   31\n",
       "4997     29  android  female     bra   31\n",
       "4998     39  android  female     bra   31\n",
       "4999     29  android  female     bra   31\n",
       "\n",
       "[5000 rows x 5 columns]"
      ]
     },
     "execution_count": 1,
     "metadata": {},
     "output_type": "execute_result"
    }
   ],
   "source": [
    "import pandas as pd\n",
    "df = pd.read_csv(\"persona.csv\")\n",
    "df"
   ]
  },
  {
   "cell_type": "code",
   "execution_count": 4,
   "id": "8b525cc1-4a52-456e-9ce1-7b60d5850d4d",
   "metadata": {},
   "outputs": [
    {
     "data": {
      "text/plain": [
       "(5000, 5)"
      ]
     },
     "execution_count": 4,
     "metadata": {},
     "output_type": "execute_result"
    }
   ],
   "source": [
    "df.shape"
   ]
  },
  {
   "cell_type": "code",
   "execution_count": 5,
   "id": "120522e3-e4bd-4c93-b386-d8d771395625",
   "metadata": {},
   "outputs": [
    {
     "data": {
      "text/plain": [
       "PRICE       int64\n",
       "SOURCE     object\n",
       "SEX        object\n",
       "COUNTRY    object\n",
       "AGE         int64\n",
       "dtype: object"
      ]
     },
     "execution_count": 5,
     "metadata": {},
     "output_type": "execute_result"
    }
   ],
   "source": [
    "df.dtypes"
   ]
  },
  {
   "cell_type": "code",
   "execution_count": null,
   "id": "77f591ba-1ea5-4b6a-bab0-85b63754bb5b",
   "metadata": {},
   "outputs": [],
   "source": [
    "# Kaç unique SOURCE vardır? Frekansları nedir?"
   ]
  },
  {
   "cell_type": "code",
   "execution_count": 6,
   "id": "450ea0fa-25e9-4b92-982d-c71693dda867",
   "metadata": {},
   "outputs": [
    {
     "data": {
      "text/plain": [
       "2"
      ]
     },
     "execution_count": 6,
     "metadata": {},
     "output_type": "execute_result"
    }
   ],
   "source": [
    "df[\"SOURCE\"].nunique()"
   ]
  },
  {
   "cell_type": "code",
   "execution_count": 7,
   "id": "e7b6203d-5d3e-499c-9c55-d94460e68737",
   "metadata": {},
   "outputs": [
    {
     "data": {
      "text/plain": [
       "android    2974\n",
       "ios        2026\n",
       "Name: SOURCE, dtype: int64"
      ]
     },
     "execution_count": 7,
     "metadata": {},
     "output_type": "execute_result"
    }
   ],
   "source": [
    "df[\"SOURCE\"].value_counts()"
   ]
  },
  {
   "cell_type": "code",
   "execution_count": null,
   "id": "88e8e096-a96e-4331-9bcf-48125d7d73c4",
   "metadata": {},
   "outputs": [],
   "source": [
    "# Kaç unique PRICE vardır?"
   ]
  },
  {
   "cell_type": "code",
   "execution_count": 8,
   "id": "d7cd8afe-5a4d-4368-b4eb-ec758060ca2b",
   "metadata": {},
   "outputs": [
    {
     "data": {
      "text/plain": [
       "6"
      ]
     },
     "execution_count": 8,
     "metadata": {},
     "output_type": "execute_result"
    }
   ],
   "source": [
    "df[\"PRICE\"].nunique()"
   ]
  },
  {
   "cell_type": "code",
   "execution_count": null,
   "id": "2a5cd829-7b06-4b54-a7cc-fd60d3873b55",
   "metadata": {},
   "outputs": [],
   "source": [
    "# Hangi PRICE'dan kaçar tane satış gerçekleşmiş?"
   ]
  },
  {
   "cell_type": "code",
   "execution_count": null,
   "id": "c88afd54-5f35-4696-a6dc-5a84dff7fe0a",
   "metadata": {},
   "outputs": [],
   "source": [
    "df[\"PRICE\"].value_counts()"
   ]
  },
  {
   "cell_type": "code",
   "execution_count": null,
   "id": "70223b3e-e45c-406b-855e-6c5137e2e794",
   "metadata": {},
   "outputs": [],
   "source": [
    "# Hangi ülkeden kaçar tane satış olmuş?"
   ]
  },
  {
   "cell_type": "code",
   "execution_count": 9,
   "id": "1573517b-10fe-4629-9a0b-0f37094291f4",
   "metadata": {},
   "outputs": [
    {
     "data": {
      "text/plain": [
       "COUNTRY\n",
       "bra    1496\n",
       "can     230\n",
       "deu     455\n",
       "fra     303\n",
       "tur     451\n",
       "usa    2065\n",
       "Name: PRICE, dtype: int64"
      ]
     },
     "execution_count": 9,
     "metadata": {},
     "output_type": "execute_result"
    }
   ],
   "source": [
    "df[\"COUNTRY\"].value_counts()\n",
    "df.groupby(\"COUNTRY\")[\"PRICE\"].count()"
   ]
  },
  {
   "cell_type": "code",
   "execution_count": null,
   "id": "27f86270-b5e3-4873-8890-90871f62652d",
   "metadata": {},
   "outputs": [],
   "source": [
    "# Ülkelere göre satışlardan toplam ne kadar kazanılmış?"
   ]
  },
  {
   "cell_type": "code",
   "execution_count": 10,
   "id": "41e2985d-beb4-4c18-b205-465c0fd3c174",
   "metadata": {},
   "outputs": [
    {
     "data": {
      "text/html": [
       "<div>\n",
       "<style scoped>\n",
       "    .dataframe tbody tr th:only-of-type {\n",
       "        vertical-align: middle;\n",
       "    }\n",
       "\n",
       "    .dataframe tbody tr th {\n",
       "        vertical-align: top;\n",
       "    }\n",
       "\n",
       "    .dataframe thead th {\n",
       "        text-align: right;\n",
       "    }\n",
       "</style>\n",
       "<table border=\"1\" class=\"dataframe\">\n",
       "  <thead>\n",
       "    <tr style=\"text-align: right;\">\n",
       "      <th></th>\n",
       "      <th>PRICE</th>\n",
       "    </tr>\n",
       "    <tr>\n",
       "      <th>COUNTRY</th>\n",
       "      <th></th>\n",
       "    </tr>\n",
       "  </thead>\n",
       "  <tbody>\n",
       "    <tr>\n",
       "      <th>bra</th>\n",
       "      <td>51354</td>\n",
       "    </tr>\n",
       "    <tr>\n",
       "      <th>can</th>\n",
       "      <td>7730</td>\n",
       "    </tr>\n",
       "    <tr>\n",
       "      <th>deu</th>\n",
       "      <td>15485</td>\n",
       "    </tr>\n",
       "    <tr>\n",
       "      <th>fra</th>\n",
       "      <td>10177</td>\n",
       "    </tr>\n",
       "    <tr>\n",
       "      <th>tur</th>\n",
       "      <td>15689</td>\n",
       "    </tr>\n",
       "    <tr>\n",
       "      <th>usa</th>\n",
       "      <td>70225</td>\n",
       "    </tr>\n",
       "  </tbody>\n",
       "</table>\n",
       "</div>"
      ],
      "text/plain": [
       "         PRICE\n",
       "COUNTRY       \n",
       "bra      51354\n",
       "can       7730\n",
       "deu      15485\n",
       "fra      10177\n",
       "tur      15689\n",
       "usa      70225"
      ]
     },
     "execution_count": 10,
     "metadata": {},
     "output_type": "execute_result"
    }
   ],
   "source": [
    "df.groupby(\"COUNTRY\")[\"PRICE\"].sum()\n",
    "df.groupby(['COUNTRY'])[['PRICE']].agg('sum')"
   ]
  },
  {
   "cell_type": "code",
   "execution_count": null,
   "id": "1ab93dc7-64b5-4c4f-868a-deeceec61f6d",
   "metadata": {},
   "outputs": [],
   "source": [
    "# SOURCE türlerine göre satış sayıları nedir?"
   ]
  },
  {
   "cell_type": "code",
   "execution_count": 11,
   "id": "1f86bcf7-e245-4023-b41c-8da68602ff00",
   "metadata": {},
   "outputs": [
    {
     "data": {
      "text/html": [
       "<div>\n",
       "<style scoped>\n",
       "    .dataframe tbody tr th:only-of-type {\n",
       "        vertical-align: middle;\n",
       "    }\n",
       "\n",
       "    .dataframe tbody tr th {\n",
       "        vertical-align: top;\n",
       "    }\n",
       "\n",
       "    .dataframe thead th {\n",
       "        text-align: right;\n",
       "    }\n",
       "</style>\n",
       "<table border=\"1\" class=\"dataframe\">\n",
       "  <thead>\n",
       "    <tr style=\"text-align: right;\">\n",
       "      <th></th>\n",
       "      <th>PRICE</th>\n",
       "    </tr>\n",
       "    <tr>\n",
       "      <th>SOURCE</th>\n",
       "      <th></th>\n",
       "    </tr>\n",
       "  </thead>\n",
       "  <tbody>\n",
       "    <tr>\n",
       "      <th>android</th>\n",
       "      <td>2974</td>\n",
       "    </tr>\n",
       "    <tr>\n",
       "      <th>ios</th>\n",
       "      <td>2026</td>\n",
       "    </tr>\n",
       "  </tbody>\n",
       "</table>\n",
       "</div>"
      ],
      "text/plain": [
       "         PRICE\n",
       "SOURCE        \n",
       "android   2974\n",
       "ios       2026"
      ]
     },
     "execution_count": 11,
     "metadata": {},
     "output_type": "execute_result"
    }
   ],
   "source": [
    "df.groupby(\"SOURCE\")[\"PRICE\"].count()\n",
    "df.groupby([\"SOURCE\"])[[\"PRICE\"]].agg(\"count\")"
   ]
  },
  {
   "cell_type": "code",
   "execution_count": null,
   "id": "67a399ea-a87c-4d35-8841-afc2c6dc93fb",
   "metadata": {},
   "outputs": [],
   "source": [
    "# Ülkelere göre PRICE ortalamaları nedir?"
   ]
  },
  {
   "cell_type": "code",
   "execution_count": 12,
   "id": "a66d2b31-bd20-440e-9692-18fd11701714",
   "metadata": {},
   "outputs": [
    {
     "data": {
      "text/html": [
       "<div>\n",
       "<style scoped>\n",
       "    .dataframe tbody tr th:only-of-type {\n",
       "        vertical-align: middle;\n",
       "    }\n",
       "\n",
       "    .dataframe tbody tr th {\n",
       "        vertical-align: top;\n",
       "    }\n",
       "\n",
       "    .dataframe thead th {\n",
       "        text-align: right;\n",
       "    }\n",
       "</style>\n",
       "<table border=\"1\" class=\"dataframe\">\n",
       "  <thead>\n",
       "    <tr style=\"text-align: right;\">\n",
       "      <th></th>\n",
       "      <th>PRICE</th>\n",
       "    </tr>\n",
       "    <tr>\n",
       "      <th>COUNTRY</th>\n",
       "      <th></th>\n",
       "    </tr>\n",
       "  </thead>\n",
       "  <tbody>\n",
       "    <tr>\n",
       "      <th>bra</th>\n",
       "      <td>34.327540</td>\n",
       "    </tr>\n",
       "    <tr>\n",
       "      <th>can</th>\n",
       "      <td>33.608696</td>\n",
       "    </tr>\n",
       "    <tr>\n",
       "      <th>deu</th>\n",
       "      <td>34.032967</td>\n",
       "    </tr>\n",
       "    <tr>\n",
       "      <th>fra</th>\n",
       "      <td>33.587459</td>\n",
       "    </tr>\n",
       "    <tr>\n",
       "      <th>tur</th>\n",
       "      <td>34.787140</td>\n",
       "    </tr>\n",
       "    <tr>\n",
       "      <th>usa</th>\n",
       "      <td>34.007264</td>\n",
       "    </tr>\n",
       "  </tbody>\n",
       "</table>\n",
       "</div>"
      ],
      "text/plain": [
       "             PRICE\n",
       "COUNTRY           \n",
       "bra      34.327540\n",
       "can      33.608696\n",
       "deu      34.032967\n",
       "fra      33.587459\n",
       "tur      34.787140\n",
       "usa      34.007264"
      ]
     },
     "execution_count": 12,
     "metadata": {},
     "output_type": "execute_result"
    }
   ],
   "source": [
    "df.groupby(\"COUNTRY\")[\"PRICE\"].mean()\n",
    "df.groupby(['COUNTRY'])[['PRICE']].agg('mean')"
   ]
  },
  {
   "cell_type": "code",
   "execution_count": null,
   "id": "4ca98996-8db0-4114-b212-9fc32f64d335",
   "metadata": {},
   "outputs": [],
   "source": [
    "# SOURCE'lara göre PRICE ortalamaları nedir?"
   ]
  },
  {
   "cell_type": "code",
   "execution_count": 13,
   "id": "7328bc1c-4644-4475-bcc4-79c4b6a0f91d",
   "metadata": {},
   "outputs": [
    {
     "data": {
      "text/html": [
       "<div>\n",
       "<style scoped>\n",
       "    .dataframe tbody tr th:only-of-type {\n",
       "        vertical-align: middle;\n",
       "    }\n",
       "\n",
       "    .dataframe tbody tr th {\n",
       "        vertical-align: top;\n",
       "    }\n",
       "\n",
       "    .dataframe thead th {\n",
       "        text-align: right;\n",
       "    }\n",
       "</style>\n",
       "<table border=\"1\" class=\"dataframe\">\n",
       "  <thead>\n",
       "    <tr style=\"text-align: right;\">\n",
       "      <th></th>\n",
       "      <th>PRICE</th>\n",
       "    </tr>\n",
       "    <tr>\n",
       "      <th>SOURCE</th>\n",
       "      <th></th>\n",
       "    </tr>\n",
       "  </thead>\n",
       "  <tbody>\n",
       "    <tr>\n",
       "      <th>android</th>\n",
       "      <td>34.174849</td>\n",
       "    </tr>\n",
       "    <tr>\n",
       "      <th>ios</th>\n",
       "      <td>34.069102</td>\n",
       "    </tr>\n",
       "  </tbody>\n",
       "</table>\n",
       "</div>"
      ],
      "text/plain": [
       "             PRICE\n",
       "SOURCE            \n",
       "android  34.174849\n",
       "ios      34.069102"
      ]
     },
     "execution_count": 13,
     "metadata": {},
     "output_type": "execute_result"
    }
   ],
   "source": [
    "df.groupby(\"SOURCE\")[\"PRICE\"].mean()\n",
    "df.groupby(['SOURCE'])[['PRICE']].agg('mean')"
   ]
  },
  {
   "cell_type": "code",
   "execution_count": null,
   "id": "792978de-ac9d-45f8-9442-829e69b96add",
   "metadata": {},
   "outputs": [],
   "source": [
    "# COUNTRY-SOURCE kırılımında PRICE ortalamaları nedir?"
   ]
  },
  {
   "cell_type": "code",
   "execution_count": null,
   "id": "d73b91a5-a4d5-4c77-a4ed-63816a01539c",
   "metadata": {},
   "outputs": [],
   "source": [
    "df.groupby([\"COUNTRY\",\"SOURCE\"])[\"PRICE\"].mean()\n",
    "df.groupby([\"COUNTRY\",\"SOURCE\"])[[\"PRICE\"]].mean()\n",
    "df.groupby([\"COUNTRY\",\"SOURCE\"])[[\"PRICE\"]].mean().unstack()"
   ]
  },
  {
   "cell_type": "code",
   "execution_count": null,
   "id": "99acb5c3-f23d-4315-b828-d57a215e8c99",
   "metadata": {},
   "outputs": [],
   "source": [
    "# COUNTRY, SOURCE, SEX, AGE kırılımında ortalama kazançlar nedir?"
   ]
  },
  {
   "cell_type": "code",
   "execution_count": 15,
   "id": "962301d0-d491-4ed7-84d9-62a4526df21c",
   "metadata": {},
   "outputs": [
    {
     "data": {
      "text/html": [
       "<div>\n",
       "<style scoped>\n",
       "    .dataframe tbody tr th:only-of-type {\n",
       "        vertical-align: middle;\n",
       "    }\n",
       "\n",
       "    .dataframe tbody tr th {\n",
       "        vertical-align: top;\n",
       "    }\n",
       "\n",
       "    .dataframe thead th {\n",
       "        text-align: right;\n",
       "    }\n",
       "</style>\n",
       "<table border=\"1\" class=\"dataframe\">\n",
       "  <thead>\n",
       "    <tr style=\"text-align: right;\">\n",
       "      <th></th>\n",
       "      <th></th>\n",
       "      <th></th>\n",
       "      <th></th>\n",
       "      <th>PRICE</th>\n",
       "    </tr>\n",
       "    <tr>\n",
       "      <th>SOURCE</th>\n",
       "      <th>SEX</th>\n",
       "      <th>COUNTRY</th>\n",
       "      <th>AGE</th>\n",
       "      <th></th>\n",
       "    </tr>\n",
       "  </thead>\n",
       "  <tbody>\n",
       "    <tr>\n",
       "      <th rowspan=\"5\" valign=\"top\">android</th>\n",
       "      <th rowspan=\"5\" valign=\"top\">female</th>\n",
       "      <th rowspan=\"5\" valign=\"top\">bra</th>\n",
       "      <th>15</th>\n",
       "      <td>38.714286</td>\n",
       "    </tr>\n",
       "    <tr>\n",
       "      <th>16</th>\n",
       "      <td>35.944444</td>\n",
       "    </tr>\n",
       "    <tr>\n",
       "      <th>17</th>\n",
       "      <td>35.666667</td>\n",
       "    </tr>\n",
       "    <tr>\n",
       "      <th>18</th>\n",
       "      <td>32.255814</td>\n",
       "    </tr>\n",
       "    <tr>\n",
       "      <th>19</th>\n",
       "      <td>35.206897</td>\n",
       "    </tr>\n",
       "    <tr>\n",
       "      <th>...</th>\n",
       "      <th>...</th>\n",
       "      <th>...</th>\n",
       "      <th>...</th>\n",
       "      <td>...</td>\n",
       "    </tr>\n",
       "    <tr>\n",
       "      <th rowspan=\"5\" valign=\"top\">ios</th>\n",
       "      <th rowspan=\"5\" valign=\"top\">male</th>\n",
       "      <th rowspan=\"5\" valign=\"top\">usa</th>\n",
       "      <th>42</th>\n",
       "      <td>30.250000</td>\n",
       "    </tr>\n",
       "    <tr>\n",
       "      <th>50</th>\n",
       "      <td>39.000000</td>\n",
       "    </tr>\n",
       "    <tr>\n",
       "      <th>53</th>\n",
       "      <td>34.000000</td>\n",
       "    </tr>\n",
       "    <tr>\n",
       "      <th>55</th>\n",
       "      <td>29.000000</td>\n",
       "    </tr>\n",
       "    <tr>\n",
       "      <th>59</th>\n",
       "      <td>46.500000</td>\n",
       "    </tr>\n",
       "  </tbody>\n",
       "</table>\n",
       "<p>348 rows × 1 columns</p>\n",
       "</div>"
      ],
      "text/plain": [
       "                                PRICE\n",
       "SOURCE  SEX    COUNTRY AGE           \n",
       "android female bra     15   38.714286\n",
       "                       16   35.944444\n",
       "                       17   35.666667\n",
       "                       18   32.255814\n",
       "                       19   35.206897\n",
       "...                               ...\n",
       "ios     male   usa     42   30.250000\n",
       "                       50   39.000000\n",
       "                       53   34.000000\n",
       "                       55   29.000000\n",
       "                       59   46.500000\n",
       "\n",
       "[348 rows x 1 columns]"
      ]
     },
     "execution_count": 15,
     "metadata": {},
     "output_type": "execute_result"
    }
   ],
   "source": [
    "df.groupby([\"COUNTRY\",\"SOURCE\",\"SEX\",\"AGE\"])[\"PRICE\"].mean()\n",
    "df.groupby([\"COUNTRY\",\"SOURCE\",\"SEX\",\"AGE\"])[[\"PRICE\"]].agg(\"mean\")\n",
    "agg_df = df.groupby([x for x in df.columns[df.columns != 'PRICE']]).mean();agg_df"
   ]
  },
  {
   "cell_type": "code",
   "execution_count": null,
   "id": "1c25cd98-8b69-4411-b4cd-33850cdf2e54",
   "metadata": {},
   "outputs": [],
   "source": [
    "# Çıktıyı PRICE’a göre sıralandı."
   ]
  },
  {
   "cell_type": "code",
   "execution_count": 16,
   "id": "6abc5e40-4ac1-4ec3-898a-403fa5e60a47",
   "metadata": {},
   "outputs": [
    {
     "data": {
      "text/html": [
       "<div>\n",
       "<style scoped>\n",
       "    .dataframe tbody tr th:only-of-type {\n",
       "        vertical-align: middle;\n",
       "    }\n",
       "\n",
       "    .dataframe tbody tr th {\n",
       "        vertical-align: top;\n",
       "    }\n",
       "\n",
       "    .dataframe thead th {\n",
       "        text-align: right;\n",
       "    }\n",
       "</style>\n",
       "<table border=\"1\" class=\"dataframe\">\n",
       "  <thead>\n",
       "    <tr style=\"text-align: right;\">\n",
       "      <th></th>\n",
       "      <th>PRICE</th>\n",
       "      <th>SOURCE</th>\n",
       "      <th>SEX</th>\n",
       "      <th>COUNTRY</th>\n",
       "      <th>AGE</th>\n",
       "    </tr>\n",
       "  </thead>\n",
       "  <tbody>\n",
       "    <tr>\n",
       "      <th>4503</th>\n",
       "      <td>59</td>\n",
       "      <td>ios</td>\n",
       "      <td>male</td>\n",
       "      <td>fra</td>\n",
       "      <td>15</td>\n",
       "    </tr>\n",
       "    <tr>\n",
       "      <th>995</th>\n",
       "      <td>59</td>\n",
       "      <td>android</td>\n",
       "      <td>male</td>\n",
       "      <td>usa</td>\n",
       "      <td>47</td>\n",
       "    </tr>\n",
       "    <tr>\n",
       "      <th>3343</th>\n",
       "      <td>59</td>\n",
       "      <td>android</td>\n",
       "      <td>male</td>\n",
       "      <td>tur</td>\n",
       "      <td>24</td>\n",
       "    </tr>\n",
       "    <tr>\n",
       "      <th>2294</th>\n",
       "      <td>59</td>\n",
       "      <td>android</td>\n",
       "      <td>male</td>\n",
       "      <td>fra</td>\n",
       "      <td>15</td>\n",
       "    </tr>\n",
       "    <tr>\n",
       "      <th>3716</th>\n",
       "      <td>59</td>\n",
       "      <td>ios</td>\n",
       "      <td>male</td>\n",
       "      <td>bra</td>\n",
       "      <td>16</td>\n",
       "    </tr>\n",
       "    <tr>\n",
       "      <th>...</th>\n",
       "      <td>...</td>\n",
       "      <td>...</td>\n",
       "      <td>...</td>\n",
       "      <td>...</td>\n",
       "      <td>...</td>\n",
       "    </tr>\n",
       "    <tr>\n",
       "      <th>4757</th>\n",
       "      <td>9</td>\n",
       "      <td>ios</td>\n",
       "      <td>male</td>\n",
       "      <td>tur</td>\n",
       "      <td>17</td>\n",
       "    </tr>\n",
       "    <tr>\n",
       "      <th>1625</th>\n",
       "      <td>9</td>\n",
       "      <td>ios</td>\n",
       "      <td>female</td>\n",
       "      <td>tur</td>\n",
       "      <td>38</td>\n",
       "    </tr>\n",
       "    <tr>\n",
       "      <th>2490</th>\n",
       "      <td>9</td>\n",
       "      <td>ios</td>\n",
       "      <td>male</td>\n",
       "      <td>bra</td>\n",
       "      <td>17</td>\n",
       "    </tr>\n",
       "    <tr>\n",
       "      <th>4397</th>\n",
       "      <td>9</td>\n",
       "      <td>android</td>\n",
       "      <td>male</td>\n",
       "      <td>usa</td>\n",
       "      <td>22</td>\n",
       "    </tr>\n",
       "    <tr>\n",
       "      <th>2500</th>\n",
       "      <td>9</td>\n",
       "      <td>ios</td>\n",
       "      <td>male</td>\n",
       "      <td>deu</td>\n",
       "      <td>32</td>\n",
       "    </tr>\n",
       "  </tbody>\n",
       "</table>\n",
       "<p>5000 rows × 5 columns</p>\n",
       "</div>"
      ],
      "text/plain": [
       "      PRICE   SOURCE     SEX COUNTRY  AGE\n",
       "4503     59      ios    male     fra   15\n",
       "995      59  android    male     usa   47\n",
       "3343     59  android    male     tur   24\n",
       "2294     59  android    male     fra   15\n",
       "3716     59      ios    male     bra   16\n",
       "...     ...      ...     ...     ...  ...\n",
       "4757      9      ios    male     tur   17\n",
       "1625      9      ios  female     tur   38\n",
       "2490      9      ios    male     bra   17\n",
       "4397      9  android    male     usa   22\n",
       "2500      9      ios    male     deu   32\n",
       "\n",
       "[5000 rows x 5 columns]"
      ]
     },
     "execution_count": 16,
     "metadata": {},
     "output_type": "execute_result"
    }
   ],
   "source": [
    "agg_df = df.sort_values(by=['PRICE'], ascending=False)\n",
    "agg_df"
   ]
  },
  {
   "cell_type": "code",
   "execution_count": 17,
   "id": "c5ce5e9c-230c-4b58-93b5-a831b820d57f",
   "metadata": {},
   "outputs": [],
   "source": [
    "# Indekste yer alan isimleri değişken ismine çevirildi."
   ]
  },
  {
   "cell_type": "code",
   "execution_count": 18,
   "id": "77c92f3b-3ce1-4d2d-ad09-bdab71f318cc",
   "metadata": {},
   "outputs": [
    {
     "data": {
      "text/html": [
       "<div>\n",
       "<style scoped>\n",
       "    .dataframe tbody tr th:only-of-type {\n",
       "        vertical-align: middle;\n",
       "    }\n",
       "\n",
       "    .dataframe tbody tr th {\n",
       "        vertical-align: top;\n",
       "    }\n",
       "\n",
       "    .dataframe thead th {\n",
       "        text-align: right;\n",
       "    }\n",
       "</style>\n",
       "<table border=\"1\" class=\"dataframe\">\n",
       "  <thead>\n",
       "    <tr style=\"text-align: right;\">\n",
       "      <th></th>\n",
       "      <th>index</th>\n",
       "      <th>PRICE</th>\n",
       "      <th>SOURCE</th>\n",
       "      <th>SEX</th>\n",
       "      <th>COUNTRY</th>\n",
       "      <th>AGE</th>\n",
       "    </tr>\n",
       "  </thead>\n",
       "  <tbody>\n",
       "    <tr>\n",
       "      <th>0</th>\n",
       "      <td>4503</td>\n",
       "      <td>59</td>\n",
       "      <td>ios</td>\n",
       "      <td>male</td>\n",
       "      <td>fra</td>\n",
       "      <td>15</td>\n",
       "    </tr>\n",
       "    <tr>\n",
       "      <th>1</th>\n",
       "      <td>995</td>\n",
       "      <td>59</td>\n",
       "      <td>android</td>\n",
       "      <td>male</td>\n",
       "      <td>usa</td>\n",
       "      <td>47</td>\n",
       "    </tr>\n",
       "    <tr>\n",
       "      <th>2</th>\n",
       "      <td>3343</td>\n",
       "      <td>59</td>\n",
       "      <td>android</td>\n",
       "      <td>male</td>\n",
       "      <td>tur</td>\n",
       "      <td>24</td>\n",
       "    </tr>\n",
       "    <tr>\n",
       "      <th>3</th>\n",
       "      <td>2294</td>\n",
       "      <td>59</td>\n",
       "      <td>android</td>\n",
       "      <td>male</td>\n",
       "      <td>fra</td>\n",
       "      <td>15</td>\n",
       "    </tr>\n",
       "    <tr>\n",
       "      <th>4</th>\n",
       "      <td>3716</td>\n",
       "      <td>59</td>\n",
       "      <td>ios</td>\n",
       "      <td>male</td>\n",
       "      <td>bra</td>\n",
       "      <td>16</td>\n",
       "    </tr>\n",
       "    <tr>\n",
       "      <th>...</th>\n",
       "      <td>...</td>\n",
       "      <td>...</td>\n",
       "      <td>...</td>\n",
       "      <td>...</td>\n",
       "      <td>...</td>\n",
       "      <td>...</td>\n",
       "    </tr>\n",
       "    <tr>\n",
       "      <th>4995</th>\n",
       "      <td>4757</td>\n",
       "      <td>9</td>\n",
       "      <td>ios</td>\n",
       "      <td>male</td>\n",
       "      <td>tur</td>\n",
       "      <td>17</td>\n",
       "    </tr>\n",
       "    <tr>\n",
       "      <th>4996</th>\n",
       "      <td>1625</td>\n",
       "      <td>9</td>\n",
       "      <td>ios</td>\n",
       "      <td>female</td>\n",
       "      <td>tur</td>\n",
       "      <td>38</td>\n",
       "    </tr>\n",
       "    <tr>\n",
       "      <th>4997</th>\n",
       "      <td>2490</td>\n",
       "      <td>9</td>\n",
       "      <td>ios</td>\n",
       "      <td>male</td>\n",
       "      <td>bra</td>\n",
       "      <td>17</td>\n",
       "    </tr>\n",
       "    <tr>\n",
       "      <th>4998</th>\n",
       "      <td>4397</td>\n",
       "      <td>9</td>\n",
       "      <td>android</td>\n",
       "      <td>male</td>\n",
       "      <td>usa</td>\n",
       "      <td>22</td>\n",
       "    </tr>\n",
       "    <tr>\n",
       "      <th>4999</th>\n",
       "      <td>2500</td>\n",
       "      <td>9</td>\n",
       "      <td>ios</td>\n",
       "      <td>male</td>\n",
       "      <td>deu</td>\n",
       "      <td>32</td>\n",
       "    </tr>\n",
       "  </tbody>\n",
       "</table>\n",
       "<p>5000 rows × 6 columns</p>\n",
       "</div>"
      ],
      "text/plain": [
       "      index  PRICE   SOURCE     SEX COUNTRY  AGE\n",
       "0      4503     59      ios    male     fra   15\n",
       "1       995     59  android    male     usa   47\n",
       "2      3343     59  android    male     tur   24\n",
       "3      2294     59  android    male     fra   15\n",
       "4      3716     59      ios    male     bra   16\n",
       "...     ...    ...      ...     ...     ...  ...\n",
       "4995   4757      9      ios    male     tur   17\n",
       "4996   1625      9      ios  female     tur   38\n",
       "4997   2490      9      ios    male     bra   17\n",
       "4998   4397      9  android    male     usa   22\n",
       "4999   2500      9      ios    male     deu   32\n",
       "\n",
       "[5000 rows x 6 columns]"
      ]
     },
     "execution_count": 18,
     "metadata": {},
     "output_type": "execute_result"
    }
   ],
   "source": [
    "agg_df.reset_index(inplace = True)\n",
    "agg_df"
   ]
  },
  {
   "cell_type": "code",
   "execution_count": null,
   "id": "7271412c-13a1-4b39-85ee-46d650738567",
   "metadata": {},
   "outputs": [],
   "source": [
    "# Age değişkenini kategorik değişkene çevirildi ve agg_df’e eklendi."
   ]
  },
  {
   "cell_type": "code",
   "execution_count": 19,
   "id": "172f0067-3a1b-44be-9020-e863e36147b5",
   "metadata": {},
   "outputs": [
    {
     "data": {
      "text/plain": [
       "CategoricalDtype(categories=[15, 16, 17, 18, 19, 20, 21, 22, 23, 24, 25, 26, 27, 28, 29,\n",
       "                  30, 31, 32, 33, 34, 35, 36, 37, 38, 39, 40, 41, 42, 43, 44,\n",
       "                  45, 46, 47, 49, 50, 51, 52, 53, 54, 55, 56, 57, 59, 61, 65,\n",
       "                  66],\n",
       ", ordered=False)"
      ]
     },
     "execution_count": 19,
     "metadata": {},
     "output_type": "execute_result"
    }
   ],
   "source": [
    "agg_df[\"AGE\"] = agg_df[\"AGE\"].astype(\"category\")\n",
    "agg_df[\"AGE\"].dtypes"
   ]
  },
  {
   "cell_type": "code",
   "execution_count": 20,
   "id": "73a613a4-1dfc-43dc-940b-c2ec64ef5293",
   "metadata": {},
   "outputs": [
    {
     "data": {
      "text/html": [
       "<div>\n",
       "<style scoped>\n",
       "    .dataframe tbody tr th:only-of-type {\n",
       "        vertical-align: middle;\n",
       "    }\n",
       "\n",
       "    .dataframe tbody tr th {\n",
       "        vertical-align: top;\n",
       "    }\n",
       "\n",
       "    .dataframe thead th {\n",
       "        text-align: right;\n",
       "    }\n",
       "</style>\n",
       "<table border=\"1\" class=\"dataframe\">\n",
       "  <thead>\n",
       "    <tr style=\"text-align: right;\">\n",
       "      <th></th>\n",
       "      <th>index</th>\n",
       "      <th>PRICE</th>\n",
       "      <th>SOURCE</th>\n",
       "      <th>SEX</th>\n",
       "      <th>COUNTRY</th>\n",
       "      <th>AGE</th>\n",
       "      <th>AGE_CAT</th>\n",
       "    </tr>\n",
       "  </thead>\n",
       "  <tbody>\n",
       "    <tr>\n",
       "      <th>0</th>\n",
       "      <td>4503</td>\n",
       "      <td>59</td>\n",
       "      <td>ios</td>\n",
       "      <td>male</td>\n",
       "      <td>fra</td>\n",
       "      <td>15</td>\n",
       "      <td>0_18</td>\n",
       "    </tr>\n",
       "    <tr>\n",
       "      <th>1</th>\n",
       "      <td>995</td>\n",
       "      <td>59</td>\n",
       "      <td>android</td>\n",
       "      <td>male</td>\n",
       "      <td>usa</td>\n",
       "      <td>47</td>\n",
       "      <td>41_70</td>\n",
       "    </tr>\n",
       "    <tr>\n",
       "      <th>2</th>\n",
       "      <td>3343</td>\n",
       "      <td>59</td>\n",
       "      <td>android</td>\n",
       "      <td>male</td>\n",
       "      <td>tur</td>\n",
       "      <td>24</td>\n",
       "      <td>24_30</td>\n",
       "    </tr>\n",
       "    <tr>\n",
       "      <th>3</th>\n",
       "      <td>2294</td>\n",
       "      <td>59</td>\n",
       "      <td>android</td>\n",
       "      <td>male</td>\n",
       "      <td>fra</td>\n",
       "      <td>15</td>\n",
       "      <td>0_18</td>\n",
       "    </tr>\n",
       "    <tr>\n",
       "      <th>4</th>\n",
       "      <td>3716</td>\n",
       "      <td>59</td>\n",
       "      <td>ios</td>\n",
       "      <td>male</td>\n",
       "      <td>bra</td>\n",
       "      <td>16</td>\n",
       "      <td>0_18</td>\n",
       "    </tr>\n",
       "    <tr>\n",
       "      <th>...</th>\n",
       "      <td>...</td>\n",
       "      <td>...</td>\n",
       "      <td>...</td>\n",
       "      <td>...</td>\n",
       "      <td>...</td>\n",
       "      <td>...</td>\n",
       "      <td>...</td>\n",
       "    </tr>\n",
       "    <tr>\n",
       "      <th>4995</th>\n",
       "      <td>4757</td>\n",
       "      <td>9</td>\n",
       "      <td>ios</td>\n",
       "      <td>male</td>\n",
       "      <td>tur</td>\n",
       "      <td>17</td>\n",
       "      <td>0_18</td>\n",
       "    </tr>\n",
       "    <tr>\n",
       "      <th>4996</th>\n",
       "      <td>1625</td>\n",
       "      <td>9</td>\n",
       "      <td>ios</td>\n",
       "      <td>female</td>\n",
       "      <td>tur</td>\n",
       "      <td>38</td>\n",
       "      <td>31_40</td>\n",
       "    </tr>\n",
       "    <tr>\n",
       "      <th>4997</th>\n",
       "      <td>2490</td>\n",
       "      <td>9</td>\n",
       "      <td>ios</td>\n",
       "      <td>male</td>\n",
       "      <td>bra</td>\n",
       "      <td>17</td>\n",
       "      <td>0_18</td>\n",
       "    </tr>\n",
       "    <tr>\n",
       "      <th>4998</th>\n",
       "      <td>4397</td>\n",
       "      <td>9</td>\n",
       "      <td>android</td>\n",
       "      <td>male</td>\n",
       "      <td>usa</td>\n",
       "      <td>22</td>\n",
       "      <td>19_23</td>\n",
       "    </tr>\n",
       "    <tr>\n",
       "      <th>4999</th>\n",
       "      <td>2500</td>\n",
       "      <td>9</td>\n",
       "      <td>ios</td>\n",
       "      <td>male</td>\n",
       "      <td>deu</td>\n",
       "      <td>32</td>\n",
       "      <td>31_40</td>\n",
       "    </tr>\n",
       "  </tbody>\n",
       "</table>\n",
       "<p>5000 rows × 7 columns</p>\n",
       "</div>"
      ],
      "text/plain": [
       "      index  PRICE   SOURCE     SEX COUNTRY AGE AGE_CAT\n",
       "0      4503     59      ios    male     fra  15    0_18\n",
       "1       995     59  android    male     usa  47   41_70\n",
       "2      3343     59  android    male     tur  24   24_30\n",
       "3      2294     59  android    male     fra  15    0_18\n",
       "4      3716     59      ios    male     bra  16    0_18\n",
       "...     ...    ...      ...     ...     ...  ..     ...\n",
       "4995   4757      9      ios    male     tur  17    0_18\n",
       "4996   1625      9      ios  female     tur  38   31_40\n",
       "4997   2490      9      ios    male     bra  17    0_18\n",
       "4998   4397      9  android    male     usa  22   19_23\n",
       "4999   2500      9      ios    male     deu  32   31_40\n",
       "\n",
       "[5000 rows x 7 columns]"
      ]
     },
     "execution_count": 20,
     "metadata": {},
     "output_type": "execute_result"
    }
   ],
   "source": [
    "agg_df[\"AGE_CAT\"] = pd.cut(agg_df[\"AGE\"], bins=[0, 18, 23, 30, 40, 70],\n",
    "                           labels=['0_18', '19_23', '24_30', '31_40','41_70'])\n",
    "agg_df"
   ]
  },
  {
   "cell_type": "code",
   "execution_count": null,
   "id": "144ff637-fb7b-4a29-b62e-091935eaf3a5",
   "metadata": {},
   "outputs": [],
   "source": [
    "# Yeni seviye tabanlı müşterileri (persona) tanımlandı."
   ]
  },
  {
   "cell_type": "code",
   "execution_count": 21,
   "id": "9d119708-5720-4806-beca-b4cc978baa86",
   "metadata": {},
   "outputs": [
    {
     "data": {
      "text/html": [
       "<div>\n",
       "<style scoped>\n",
       "    .dataframe tbody tr th:only-of-type {\n",
       "        vertical-align: middle;\n",
       "    }\n",
       "\n",
       "    .dataframe tbody tr th {\n",
       "        vertical-align: top;\n",
       "    }\n",
       "\n",
       "    .dataframe thead th {\n",
       "        text-align: right;\n",
       "    }\n",
       "</style>\n",
       "<table border=\"1\" class=\"dataframe\">\n",
       "  <thead>\n",
       "    <tr style=\"text-align: right;\">\n",
       "      <th></th>\n",
       "      <th>CUSTOMERS_LEVEL_BASED</th>\n",
       "      <th>PRICE</th>\n",
       "    </tr>\n",
       "  </thead>\n",
       "  <tbody>\n",
       "    <tr>\n",
       "      <th>0</th>\n",
       "      <td>BRA_ANDROID_FEMALE_0_18</td>\n",
       "      <td>35.439394</td>\n",
       "    </tr>\n",
       "    <tr>\n",
       "      <th>1</th>\n",
       "      <td>BRA_ANDROID_FEMALE_19_23</td>\n",
       "      <td>34.114943</td>\n",
       "    </tr>\n",
       "    <tr>\n",
       "      <th>2</th>\n",
       "      <td>BRA_ANDROID_FEMALE_24_30</td>\n",
       "      <td>34.540541</td>\n",
       "    </tr>\n",
       "    <tr>\n",
       "      <th>3</th>\n",
       "      <td>BRA_ANDROID_FEMALE_31_40</td>\n",
       "      <td>34.696203</td>\n",
       "    </tr>\n",
       "    <tr>\n",
       "      <th>4</th>\n",
       "      <td>BRA_ANDROID_FEMALE_41_70</td>\n",
       "      <td>35.086957</td>\n",
       "    </tr>\n",
       "    <tr>\n",
       "      <th>...</th>\n",
       "      <td>...</td>\n",
       "      <td>...</td>\n",
       "    </tr>\n",
       "    <tr>\n",
       "      <th>104</th>\n",
       "      <td>USA_IOS_MALE_0_18</td>\n",
       "      <td>34.054348</td>\n",
       "    </tr>\n",
       "    <tr>\n",
       "      <th>105</th>\n",
       "      <td>USA_IOS_MALE_19_23</td>\n",
       "      <td>35.304348</td>\n",
       "    </tr>\n",
       "    <tr>\n",
       "      <th>106</th>\n",
       "      <td>USA_IOS_MALE_24_30</td>\n",
       "      <td>36.096774</td>\n",
       "    </tr>\n",
       "    <tr>\n",
       "      <th>107</th>\n",
       "      <td>USA_IOS_MALE_31_40</td>\n",
       "      <td>32.333333</td>\n",
       "    </tr>\n",
       "    <tr>\n",
       "      <th>108</th>\n",
       "      <td>USA_IOS_MALE_41_70</td>\n",
       "      <td>35.842105</td>\n",
       "    </tr>\n",
       "  </tbody>\n",
       "</table>\n",
       "<p>109 rows × 2 columns</p>\n",
       "</div>"
      ],
      "text/plain": [
       "        CUSTOMERS_LEVEL_BASED      PRICE\n",
       "0     BRA_ANDROID_FEMALE_0_18  35.439394\n",
       "1    BRA_ANDROID_FEMALE_19_23  34.114943\n",
       "2    BRA_ANDROID_FEMALE_24_30  34.540541\n",
       "3    BRA_ANDROID_FEMALE_31_40  34.696203\n",
       "4    BRA_ANDROID_FEMALE_41_70  35.086957\n",
       "..                        ...        ...\n",
       "104         USA_IOS_MALE_0_18  34.054348\n",
       "105        USA_IOS_MALE_19_23  35.304348\n",
       "106        USA_IOS_MALE_24_30  36.096774\n",
       "107        USA_IOS_MALE_31_40  32.333333\n",
       "108        USA_IOS_MALE_41_70  35.842105\n",
       "\n",
       "[109 rows x 2 columns]"
      ]
     },
     "execution_count": 21,
     "metadata": {},
     "output_type": "execute_result"
    }
   ],
   "source": [
    "agg_df['CUSTOMERS_LEVEL_BASED'] = ['_'.join(i).upper() for i in agg_df[['COUNTRY', 'SOURCE', \"SEX\", \"AGE_CAT\"]].values]\n",
    "agg_df\n",
    "agg_df = agg_df.groupby([\"CUSTOMERS_LEVEL_BASED\"])[['PRICE']].agg('mean')\n",
    "agg_df\n",
    "agg_df.reset_index(inplace = True)\n",
    "agg_df"
   ]
  },
  {
   "cell_type": "code",
   "execution_count": null,
   "id": "28a9c987-2eec-48a6-b4b6-3ab8c15939c9",
   "metadata": {},
   "outputs": [],
   "source": [
    "# Yeni müşterileri (personaları) segmentlere ayırıldı."
   ]
  },
  {
   "cell_type": "code",
   "execution_count": 22,
   "id": "a2a631ca-6917-43f6-a7aa-4c377f48feab",
   "metadata": {},
   "outputs": [
    {
     "data": {
      "text/html": [
       "<div>\n",
       "<style scoped>\n",
       "    .dataframe tbody tr th:only-of-type {\n",
       "        vertical-align: middle;\n",
       "    }\n",
       "\n",
       "    .dataframe tbody tr th {\n",
       "        vertical-align: top;\n",
       "    }\n",
       "\n",
       "    .dataframe thead tr th {\n",
       "        text-align: left;\n",
       "    }\n",
       "\n",
       "    .dataframe thead tr:last-of-type th {\n",
       "        text-align: right;\n",
       "    }\n",
       "</style>\n",
       "<table border=\"1\" class=\"dataframe\">\n",
       "  <thead>\n",
       "    <tr>\n",
       "      <th></th>\n",
       "      <th colspan=\"3\" halign=\"left\">PRICE</th>\n",
       "    </tr>\n",
       "    <tr>\n",
       "      <th></th>\n",
       "      <th>mean</th>\n",
       "      <th>max</th>\n",
       "      <th>sum</th>\n",
       "    </tr>\n",
       "    <tr>\n",
       "      <th>SEGMENT</th>\n",
       "      <th></th>\n",
       "      <th></th>\n",
       "      <th></th>\n",
       "    </tr>\n",
       "  </thead>\n",
       "  <tbody>\n",
       "    <tr>\n",
       "      <th>D</th>\n",
       "      <td>30.113161</td>\n",
       "      <td>32.658537</td>\n",
       "      <td>843.168512</td>\n",
       "    </tr>\n",
       "    <tr>\n",
       "      <th>C</th>\n",
       "      <td>33.512842</td>\n",
       "      <td>34.000000</td>\n",
       "      <td>971.872429</td>\n",
       "    </tr>\n",
       "    <tr>\n",
       "      <th>B</th>\n",
       "      <td>34.681428</td>\n",
       "      <td>35.439394</td>\n",
       "      <td>867.035711</td>\n",
       "    </tr>\n",
       "    <tr>\n",
       "      <th>A</th>\n",
       "      <td>37.544294</td>\n",
       "      <td>45.000000</td>\n",
       "      <td>1013.695935</td>\n",
       "    </tr>\n",
       "  </tbody>\n",
       "</table>\n",
       "</div>"
      ],
      "text/plain": [
       "             PRICE                        \n",
       "              mean        max          sum\n",
       "SEGMENT                                   \n",
       "D        30.113161  32.658537   843.168512\n",
       "C        33.512842  34.000000   971.872429\n",
       "B        34.681428  35.439394   867.035711\n",
       "A        37.544294  45.000000  1013.695935"
      ]
     },
     "execution_count": 22,
     "metadata": {},
     "output_type": "execute_result"
    }
   ],
   "source": [
    "agg_df[\"SEGMENT\"] =  pd.qcut(agg_df[\"PRICE\"], 4 , labels =[\"D\",\"C\",\"B\",\"A\"])\n",
    "agg_df\n",
    "agg_df.groupby([\"SEGMENT\"])[[\"PRICE\"]].agg([\"mean\", \"max\", \"sum\"])"
   ]
  },
  {
   "cell_type": "code",
   "execution_count": null,
   "id": "b6a932d9-72f7-4e7d-813b-15246d825e9d",
   "metadata": {},
   "outputs": [],
   "source": [
    "# Yeni gelen müşterileri sınıflandırıp, ne kadar gelir getirebileceklerini tahmin edildi."
   ]
  },
  {
   "cell_type": "code",
   "execution_count": null,
   "id": "60bff783-ad31-4c3d-b52b-86f939e4923e",
   "metadata": {},
   "outputs": [],
   "source": [
    "# 31 yaşında ANDROID kullanan bir Türk kadını hangi segmente aittir ve ortalama ne kadar gelir kazandırması beklenir?"
   ]
  },
  {
   "cell_type": "code",
   "execution_count": 27,
   "id": "993241c7-73f0-40b7-a74e-85029d87a2df",
   "metadata": {},
   "outputs": [
    {
     "data": {
      "text/html": [
       "<div>\n",
       "<style scoped>\n",
       "    .dataframe tbody tr th:only-of-type {\n",
       "        vertical-align: middle;\n",
       "    }\n",
       "\n",
       "    .dataframe tbody tr th {\n",
       "        vertical-align: top;\n",
       "    }\n",
       "\n",
       "    .dataframe thead th {\n",
       "        text-align: right;\n",
       "    }\n",
       "</style>\n",
       "<table border=\"1\" class=\"dataframe\">\n",
       "  <thead>\n",
       "    <tr style=\"text-align: right;\">\n",
       "      <th></th>\n",
       "      <th>CUSTOMERS_LEVEL_BASED</th>\n",
       "      <th>PRICE</th>\n",
       "      <th>SEGMENT</th>\n",
       "    </tr>\n",
       "  </thead>\n",
       "  <tbody>\n",
       "    <tr>\n",
       "      <th>72</th>\n",
       "      <td>TUR_ANDROID_FEMALE_31_40</td>\n",
       "      <td>41.727273</td>\n",
       "      <td>A</td>\n",
       "    </tr>\n",
       "  </tbody>\n",
       "</table>\n",
       "</div>"
      ],
      "text/plain": [
       "       CUSTOMERS_LEVEL_BASED      PRICE SEGMENT\n",
       "72  TUR_ANDROID_FEMALE_31_40  41.727273       A"
      ]
     },
     "execution_count": 27,
     "metadata": {},
     "output_type": "execute_result"
    }
   ],
   "source": [
    "new_user = \"TUR_ANDROID_FEMALE_31_40\"\n",
    "agg_df[agg_df[\"CUSTOMERS_LEVEL_BASED\"] == new_user]"
   ]
  },
  {
   "cell_type": "code",
   "execution_count": null,
   "id": "cd3bb1b4-dff4-463a-915e-537854f134bb",
   "metadata": {},
   "outputs": [],
   "source": [
    "# 31 yaşında IOS kullanan bir Fransız kadını hangi segmente aittir ve ortalama ne kadar gelir kazandırması beklenir?"
   ]
  },
  {
   "cell_type": "code",
   "execution_count": 26,
   "id": "ad5fdb00-d965-4093-b3d4-d6f01ffbcfd2",
   "metadata": {},
   "outputs": [
    {
     "data": {
      "text/html": [
       "<div>\n",
       "<style scoped>\n",
       "    .dataframe tbody tr th:only-of-type {\n",
       "        vertical-align: middle;\n",
       "    }\n",
       "\n",
       "    .dataframe tbody tr th {\n",
       "        vertical-align: top;\n",
       "    }\n",
       "\n",
       "    .dataframe thead th {\n",
       "        text-align: right;\n",
       "    }\n",
       "</style>\n",
       "<table border=\"1\" class=\"dataframe\">\n",
       "  <thead>\n",
       "    <tr style=\"text-align: right;\">\n",
       "      <th></th>\n",
       "      <th>CUSTOMERS_LEVEL_BASED</th>\n",
       "      <th>PRICE</th>\n",
       "      <th>SEGMENT</th>\n",
       "    </tr>\n",
       "  </thead>\n",
       "  <tbody>\n",
       "    <tr>\n",
       "      <th>63</th>\n",
       "      <td>FRA_IOS_FEMALE_31_40</td>\n",
       "      <td>32.75</td>\n",
       "      <td>C</td>\n",
       "    </tr>\n",
       "  </tbody>\n",
       "</table>\n",
       "</div>"
      ],
      "text/plain": [
       "   CUSTOMERS_LEVEL_BASED  PRICE SEGMENT\n",
       "63  FRA_IOS_FEMALE_31_40  32.75       C"
      ]
     },
     "execution_count": 26,
     "metadata": {},
     "output_type": "execute_result"
    }
   ],
   "source": [
    "new_user_2 = 'FRA_IOS_FEMALE_31_40'\n",
    "agg_df[agg_df['CUSTOMERS_LEVEL_BASED'] == new_user_2]"
   ]
  }
 ],
 "metadata": {
  "kernelspec": {
   "display_name": "Python 3 (ipykernel)",
   "language": "python",
   "name": "python3"
  },
  "language_info": {
   "codemirror_mode": {
    "name": "ipython",
    "version": 3
   },
   "file_extension": ".py",
   "mimetype": "text/x-python",
   "name": "python",
   "nbconvert_exporter": "python",
   "pygments_lexer": "ipython3",
   "version": "3.9.7"
  }
 },
 "nbformat": 4,
 "nbformat_minor": 5
}
